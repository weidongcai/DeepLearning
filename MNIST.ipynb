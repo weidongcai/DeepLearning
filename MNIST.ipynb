{
 "cells": [
  {
   "cell_type": "code",
   "execution_count": 10,
   "metadata": {
    "collapsed": false,
    "deletable": true,
    "editable": true
   },
   "outputs": [],
   "source": [
    "import tensorflow as tf\n",
    "import numpy as np\n",
    "from keras.datasets import mnist"
   ]
  },
  {
   "cell_type": "code",
   "execution_count": 11,
   "metadata": {
    "collapsed": false,
    "deletable": true,
    "editable": true
   },
   "outputs": [],
   "source": [
    "\"\"\"Load data\"\"\"\n",
    "\n",
    "(X_train, y_train), (X_test, y_test) = mnist.load_data(path=\"mnist.npz\")\n",
    "num_classes = 10 # 0 through 9\n",
    "\n",
    "# One-hot encode y_train and y_test\n",
    "y_train = np.array([np.array([0]*(y)+[1]+[0]*(num_classes-y-1)) for y in y_train])\n",
    "y_test  = np.array([np.array([0]*(y)+[1]+[0]*(num_classes-y-1)) for y in y_test])\n",
    "\n",
    "# Flatten Xs\n",
    "X_train = np.array([X.flatten() for X in X_train])\n",
    "X_test  = np.array([X.flatten() for X in X_test])\n",
    "\n",
    "# Create placeholders\n",
    "input_size = X_train.shape[1]\n",
    "X = tf.placeholder(\"float\", [None, input_size])\n",
    "y = tf.placeholder(\"float\", [None, num_classes])"
   ]
  },
  {
   "cell_type": "code",
   "execution_count": 23,
   "metadata": {
    "collapsed": false,
    "deletable": true,
    "editable": true
   },
   "outputs": [],
   "source": [
    "\"\"\"Hyperparams\"\"\"\n",
    "\n",
    "BATCH_SIZE = 100\n",
    "EPOCHS = 15\n",
    "LEARNING_RATE = 0.01\n",
    "DROPOUT = 0.75 # Only used for ConvNets\n",
    "ACC_EVERY = 1 # Print accuracy every __"
   ]
  },
  {
   "cell_type": "code",
   "execution_count": 24,
   "metadata": {
    "collapsed": false,
    "deletable": true,
    "editable": true
   },
   "outputs": [],
   "source": [
    "\"\"\"Utility functions\"\"\"\n",
    "\n",
    "activation = tf.nn.relu\n",
    "\n",
    "def init_weights(weights_sizes):\n",
    "    return [tf.Variable(tf.random_normal(weight_size))\n",
    "           for weight_size in weights_sizes]\n",
    "\n",
    "def init_biases(biases_sizes):\n",
    "    return [tf.Variable(tf.random_normal([bias_size])) for bias_size in biases_sizes]\n",
    "\n",
    "def fully_connected(prev_layer, weight, bias, activation=activation):\n",
    "    layer = tf.add(tf.matmul(prev_layer, weight), bias)\n",
    "    layer = activation(layer)\n",
    "    return layer\n",
    "\n",
    "def convolution(X, W, b, stride=1):\n",
    "    X = tf.nn.conv2d(X, W, strides=[1, stride, stride, 1], padding='SAME')\n",
    "    X = tf.nn.bias_add(X, b)\n",
    "    return activation(X)\n",
    "\n",
    "def max_pool(X):\n",
    "    return tf.nn.max_pool(X, ksize=[1, 2, 2, 1], strides=[1, 2, 2, 1], padding='SAME')\n",
    "\n",
    "def autoencode_X(sess, decoder, x, autoencode=False):\n",
    "    if autoencode:\n",
    "        return sess.run(decoder, feed_dict={X: x})\n",
    "    else:\n",
    "        return x"
   ]
  },
  {
   "cell_type": "code",
   "execution_count": 47,
   "metadata": {
    "collapsed": false,
    "deletable": true,
    "editable": true,
    "scrolled": true
   },
   "outputs": [
    {
     "name": "stdout",
     "output_type": "stream",
     "text": [
      "('Epoch:', '0001', 'cost=', 'nan')\n",
      "('Accuracy ', 7419.2246)\n"
     ]
    },
    {
     "data": {
      "image/png": "[encoded data removed]",
      "text/plain": [
       "<matplotlib.figure.Figure at 0x11d4b6ad0>"
      ]
     },
     "metadata": {},
     "output_type": "display_data"
    },
    {
     "ename": "KeyboardInterrupt",
     "evalue": "",
     "output_type": "error",
     "traceback": [
      "\u001b[0;31m---------------------------------------------------------------------------\u001b[0m",
      "\u001b[0;31mKeyboardInterrupt\u001b[0m                         Traceback (most recent call last)",
      "\u001b[0;32m<ipython-input-47-8957aff64306>\u001b[0m in \u001b[0;36m<module>\u001b[0;34m()\u001b[0m\n\u001b[1;32m     69\u001b[0m             \u001b[0mend_ind\u001b[0m \u001b[0;34m=\u001b[0m \u001b[0;34m(\u001b[0m\u001b[0;34m(\u001b[0m\u001b[0mstep\u001b[0m\u001b[0;34m+\u001b[0m\u001b[0;36m1\u001b[0m\u001b[0;34m)\u001b[0m\u001b[0;34m*\u001b[0m\u001b[0mBATCH_SIZE\u001b[0m\u001b[0;34m)\u001b[0m \u001b[0;34m%\u001b[0m \u001b[0mlen\u001b[0m\u001b[0;34m(\u001b[0m\u001b[0mX_train\u001b[0m\u001b[0;34m)\u001b[0m\u001b[0;34m\u001b[0m\u001b[0m\n\u001b[1;32m     70\u001b[0m             \u001b[0mbatch_xs\u001b[0m \u001b[0;34m=\u001b[0m \u001b[0mX_train\u001b[0m\u001b[0;34m[\u001b[0m\u001b[0mstart_ind\u001b[0m\u001b[0;34m:\u001b[0m\u001b[0mend_ind\u001b[0m\u001b[0;34m]\u001b[0m\u001b[0;34m\u001b[0m\u001b[0m\n\u001b[0;32m---> 71\u001b[0;31m             \u001b[0m_\u001b[0m\u001b[0;34m,\u001b[0m \u001b[0mc\u001b[0m \u001b[0;34m=\u001b[0m \u001b[0msess\u001b[0m\u001b[0;34m.\u001b[0m\u001b[0mrun\u001b[0m\u001b[0;34m(\u001b[0m\u001b[0;34m[\u001b[0m\u001b[0moptimizer\u001b[0m\u001b[0;34m,\u001b[0m \u001b[0mcost\u001b[0m\u001b[0;34m]\u001b[0m\u001b[0;34m,\u001b[0m \u001b[0mfeed_dict\u001b[0m\u001b[0;34m=\u001b[0m\u001b[0;34m{\u001b[0m\u001b[0mX\u001b[0m\u001b[0;34m:\u001b[0m \u001b[0mbatch_xs\u001b[0m\u001b[0;34m}\u001b[0m\u001b[0;34m)\u001b[0m\u001b[0;34m\u001b[0m\u001b[0m\n\u001b[0m\u001b[1;32m     72\u001b[0m         \u001b[0;32mif\u001b[0m \u001b[0mepoch\u001b[0m \u001b[0;34m%\u001b[0m \u001b[0mACC_EVERY\u001b[0m \u001b[0;34m==\u001b[0m \u001b[0;36m0\u001b[0m\u001b[0;34m:\u001b[0m\u001b[0;34m\u001b[0m\u001b[0m\n\u001b[1;32m     73\u001b[0m             print(\"Epoch:\", '%04d' % (epoch+1),\n",
      "\u001b[0;32m/usr/local/lib/python2.7/site-packages/tensorflow/python/client/session.pyc\u001b[0m in \u001b[0;36mrun\u001b[0;34m(self, fetches, feed_dict, options, run_metadata)\u001b[0m\n\u001b[1;32m    765\u001b[0m     \u001b[0;32mtry\u001b[0m\u001b[0;34m:\u001b[0m\u001b[0;34m\u001b[0m\u001b[0m\n\u001b[1;32m    766\u001b[0m       result = self._run(None, fetches, feed_dict, options_ptr,\n\u001b[0;32m--> 767\u001b[0;31m                          run_metadata_ptr)\n\u001b[0m\u001b[1;32m    768\u001b[0m       \u001b[0;32mif\u001b[0m \u001b[0mrun_metadata\u001b[0m\u001b[0;34m:\u001b[0m\u001b[0;34m\u001b[0m\u001b[0m\n\u001b[1;32m    769\u001b[0m         \u001b[0mproto_data\u001b[0m \u001b[0;34m=\u001b[0m \u001b[0mtf_session\u001b[0m\u001b[0;34m.\u001b[0m\u001b[0mTF_GetBuffer\u001b[0m\u001b[0;34m(\u001b[0m\u001b[0mrun_metadata_ptr\u001b[0m\u001b[0;34m)\u001b[0m\u001b[0;34m\u001b[0m\u001b[0m\n",
      "\u001b[0;32m/usr/local/lib/python2.7/site-packages/tensorflow/python/client/session.pyc\u001b[0m in \u001b[0;36m_run\u001b[0;34m(self, handle, fetches, feed_dict, options, run_metadata)\u001b[0m\n\u001b[1;32m    963\u001b[0m     \u001b[0;32mif\u001b[0m \u001b[0mfinal_fetches\u001b[0m \u001b[0;32mor\u001b[0m \u001b[0mfinal_targets\u001b[0m\u001b[0;34m:\u001b[0m\u001b[0;34m\u001b[0m\u001b[0m\n\u001b[1;32m    964\u001b[0m       results = self._do_run(handle, final_targets, final_fetches,\n\u001b[0;32m--> 965\u001b[0;31m                              feed_dict_string, options, run_metadata)\n\u001b[0m\u001b[1;32m    966\u001b[0m     \u001b[0;32melse\u001b[0m\u001b[0;34m:\u001b[0m\u001b[0;34m\u001b[0m\u001b[0m\n\u001b[1;32m    967\u001b[0m       \u001b[0mresults\u001b[0m \u001b[0;34m=\u001b[0m \u001b[0;34m[\u001b[0m\u001b[0;34m]\u001b[0m\u001b[0;34m\u001b[0m\u001b[0m\n",
      "\u001b[0;32m/usr/local/lib/python2.7/site-packages/tensorflow/python/client/session.pyc\u001b[0m in \u001b[0;36m_do_run\u001b[0;34m(self, handle, target_list, fetch_list, feed_dict, options, run_metadata)\u001b[0m\n\u001b[1;32m   1013\u001b[0m     \u001b[0;32mif\u001b[0m \u001b[0mhandle\u001b[0m \u001b[0;32mis\u001b[0m \u001b[0mNone\u001b[0m\u001b[0;34m:\u001b[0m\u001b[0;34m\u001b[0m\u001b[0m\n\u001b[1;32m   1014\u001b[0m       return self._do_call(_run_fn, self._session, feed_dict, fetch_list,\n\u001b[0;32m-> 1015\u001b[0;31m                            target_list, options, run_metadata)\n\u001b[0m\u001b[1;32m   1016\u001b[0m     \u001b[0;32melse\u001b[0m\u001b[0;34m:\u001b[0m\u001b[0;34m\u001b[0m\u001b[0m\n\u001b[1;32m   1017\u001b[0m       return self._do_call(_prun_fn, self._session, handle, feed_dict,\n",
      "\u001b[0;32m/usr/local/lib/python2.7/site-packages/tensorflow/python/client/session.pyc\u001b[0m in \u001b[0;36m_do_call\u001b[0;34m(self, fn, *args)\u001b[0m\n\u001b[1;32m   1020\u001b[0m   \u001b[0;32mdef\u001b[0m \u001b[0m_do_call\u001b[0m\u001b[0;34m(\u001b[0m\u001b[0mself\u001b[0m\u001b[0;34m,\u001b[0m \u001b[0mfn\u001b[0m\u001b[0;34m,\u001b[0m \u001b[0;34m*\u001b[0m\u001b[0margs\u001b[0m\u001b[0;34m)\u001b[0m\u001b[0;34m:\u001b[0m\u001b[0;34m\u001b[0m\u001b[0m\n\u001b[1;32m   1021\u001b[0m     \u001b[0;32mtry\u001b[0m\u001b[0;34m:\u001b[0m\u001b[0;34m\u001b[0m\u001b[0m\n\u001b[0;32m-> 1022\u001b[0;31m       \u001b[0;32mreturn\u001b[0m \u001b[0mfn\u001b[0m\u001b[0;34m(\u001b[0m\u001b[0;34m*\u001b[0m\u001b[0margs\u001b[0m\u001b[0;34m)\u001b[0m\u001b[0;34m\u001b[0m\u001b[0m\n\u001b[0m\u001b[1;32m   1023\u001b[0m     \u001b[0;32mexcept\u001b[0m \u001b[0merrors\u001b[0m\u001b[0;34m.\u001b[0m\u001b[0mOpError\u001b[0m \u001b[0;32mas\u001b[0m \u001b[0me\u001b[0m\u001b[0;34m:\u001b[0m\u001b[0;34m\u001b[0m\u001b[0m\n\u001b[1;32m   1024\u001b[0m       \u001b[0mmessage\u001b[0m \u001b[0;34m=\u001b[0m \u001b[0mcompat\u001b[0m\u001b[0;34m.\u001b[0m\u001b[0mas_text\u001b[0m\u001b[0;34m(\u001b[0m\u001b[0me\u001b[0m\u001b[0;34m.\u001b[0m\u001b[0mmessage\u001b[0m\u001b[0;34m)\u001b[0m\u001b[0;34m\u001b[0m\u001b[0m\n",
      "\u001b[0;32m/usr/local/lib/python2.7/site-packages/tensorflow/python/client/session.pyc\u001b[0m in \u001b[0;36m_run_fn\u001b[0;34m(session, feed_dict, fetch_list, target_list, options, run_metadata)\u001b[0m\n\u001b[1;32m   1002\u001b[0m         return tf_session.TF_Run(session, options,\n\u001b[1;32m   1003\u001b[0m                                  \u001b[0mfeed_dict\u001b[0m\u001b[0;34m,\u001b[0m \u001b[0mfetch_list\u001b[0m\u001b[0;34m,\u001b[0m \u001b[0mtarget_list\u001b[0m\u001b[0;34m,\u001b[0m\u001b[0;34m\u001b[0m\u001b[0m\n\u001b[0;32m-> 1004\u001b[0;31m                                  status, run_metadata)\n\u001b[0m\u001b[1;32m   1005\u001b[0m \u001b[0;34m\u001b[0m\u001b[0m\n\u001b[1;32m   1006\u001b[0m     \u001b[0;32mdef\u001b[0m \u001b[0m_prun_fn\u001b[0m\u001b[0;34m(\u001b[0m\u001b[0msession\u001b[0m\u001b[0;34m,\u001b[0m \u001b[0mhandle\u001b[0m\u001b[0;34m,\u001b[0m \u001b[0mfeed_dict\u001b[0m\u001b[0;34m,\u001b[0m \u001b[0mfetch_list\u001b[0m\u001b[0;34m)\u001b[0m\u001b[0;34m:\u001b[0m\u001b[0;34m\u001b[0m\u001b[0m\n",
      "\u001b[0;31mKeyboardInterrupt\u001b[0m: "
     ]
    }
   ],
   "source": [
    "import matplotlib.pyplot as plt\n",
    "%matplotlib inline\n",
    "\n",
    "VIS_DECODE = True\n",
    "encode_sizes = [input_size, 256, 128]\n",
    "decode_sizes = encode_sizes[::-1]\n",
    "\n",
    "encode_weights = [tf.Variable(tf.random_normal([inp, out])) for inp, out in zip(encode_sizes[:-1], encode_sizes[1:])]\n",
    "decode_weights = [tf.Variable(tf.random_normal([inp, out])) for inp, out in zip(decode_sizes[:-1], decode_sizes[1:])]\n",
    "\n",
    "encode_biases = [tf.Variable(tf.random_normal([out])) for out in encode_sizes[1:]]\n",
    "decode_biases = [tf.Variable(tf.random_normal([out])) for out in decode_sizes[1:]]\n",
    "\n",
    "n_input, n_hidden_1, n_hidden_2 = input_size, 256, 128\n",
    "\n",
    "# encode_weights = [\n",
    "#     tf.Variable(tf.random_normal([n_input, n_hidden_1])),\n",
    "#     tf.Variable(tf.random_normal([n_hidden_1, n_hidden_2])),\n",
    "# ]\n",
    "\n",
    "# decode_weights =[\n",
    "#     tf.Variable(tf.random_normal([n_hidden_2, n_hidden_1])),\n",
    "#     tf.Variable(tf.random_normal([n_hidden_1, n_input])),\n",
    "# ]\n",
    "\n",
    "# encode_biases = [\n",
    "#     tf.Variable(tf.random_normal([n_hidden_1])),\n",
    "#     tf.Variable(tf.random_normal([n_hidden_2])),\n",
    "# ]\n",
    "# decode_biases =[\n",
    "#     tf.Variable(tf.random_normal([n_hidden_1])),\n",
    "#     tf.Variable(tf.random_normal([n_input])),\n",
    "# ]\n",
    "\n",
    "def encoder(x):\n",
    "    layers = [x]\n",
    "    for weight, bias in zip(encode_weights, encode_biases):\n",
    "        layers.append(activation(tf.add(tf.matmul(\n",
    "            layers[-1], weight), bias)))\n",
    "    return layers[-1]\n",
    "\n",
    "\n",
    "def decoder(x):\n",
    "    layers = [x]\n",
    "    for weight, bias in zip(decode_weights, decode_biases):\n",
    "        layers.append(activation(tf.add(tf.matmul(\n",
    "            layers[-1], weight), bias)))\n",
    "    return layers[-1]\n",
    "\n",
    "\n",
    "encoder_op = encoder(X)\n",
    "decoder_op = decoder(encoder_op)\n",
    "\n",
    "y_pred = decoder_op\n",
    "y_true = X\n",
    "\n",
    "cost = tf.reduce_mean(tf.pow(y_true - y_pred, 2))\n",
    "optimizer = tf.train.RMSPropOptimizer(LEARNING_RATE).minimize(cost)\n",
    "\n",
    "init = tf.global_variables_initializer()\n",
    "\n",
    "BATCH_SIZE = 5\n",
    "\n",
    "with tf.Session() as sess:\n",
    "    sess.run(init)\n",
    "    for epoch in range(EPOCHS):\n",
    "        for step in range(len(X_train)//BATCH_SIZE):\n",
    "            start_ind = (step*BATCH_SIZE) % len(X_train)\n",
    "            end_ind = ((step+1)*BATCH_SIZE) % len(X_train)\n",
    "            batch_xs = X_train[start_ind:end_ind]\n",
    "            _, c = sess.run([optimizer, cost], feed_dict={X: batch_xs})\n",
    "        if epoch % ACC_EVERY == 0:\n",
    "            print(\"Epoch:\", '%04d' % (epoch+1),\n",
    "                  \"cost=\", \"{:.9f}\".format(c))\n",
    "        \n",
    "        decoded_X_test = sess.run(y_pred, feed_dict={X: X_test})\n",
    "        print(\"Accuracy \", tf.reduce_mean(tf.pow(X_test - decoded_X_test, 2)).eval())\n",
    "        f, a = plt.subplots(2, 10, figsize=(10, 2))\n",
    "        for i in range(len(X_test[:10])):\n",
    "            a[0][i].imshow(np.reshape(X_test[i], (28, 28)))\n",
    "            a[1][i].imshow(np.reshape(decoded_X_test[i], (28, 28)))\n",
    "        f.show()\n",
    "        plt.draw()\n",
    "        plt.show()\n",
    "\n",
    "print(\"Optimization Finished!\")"
   ]
  },
  {
   "cell_type": "code",
   "execution_count": 53,
   "metadata": {
    "collapsed": false,
    "deletable": true,
    "editable": true,
    "scrolled": true
   },
   "outputs": [
    {
     "name": "stdout",
     "output_type": "stream",
     "text": [
      "Epoch  000  | Testing Acc: 0.1153\n",
      "Epoch  001  | Testing Acc: 0.1028\n",
      "Epoch  002  | Testing Acc: 0.1028\n"
     ]
    },
    {
     "ename": "KeyboardInterrupt",
     "evalue": "",
     "output_type": "error",
     "traceback": [
      "\u001b[0;31m---------------------------------------------------------------------------\u001b[0m",
      "\u001b[0;31mKeyboardInterrupt\u001b[0m                         Traceback (most recent call last)",
      "\u001b[0;32m<ipython-input-53-96d63389b9e7>\u001b[0m in \u001b[0;36m<module>\u001b[0;34m()\u001b[0m\n\u001b[1;32m     35\u001b[0m         \u001b[0mend_ind\u001b[0m \u001b[0;34m=\u001b[0m \u001b[0;34m(\u001b[0m\u001b[0;34m(\u001b[0m\u001b[0mstep\u001b[0m\u001b[0;34m+\u001b[0m\u001b[0;36m1\u001b[0m\u001b[0;34m)\u001b[0m\u001b[0;34m*\u001b[0m\u001b[0mBATCH_SIZE\u001b[0m\u001b[0;34m)\u001b[0m \u001b[0;34m%\u001b[0m \u001b[0mlen\u001b[0m\u001b[0;34m(\u001b[0m\u001b[0mX_train\u001b[0m\u001b[0;34m)\u001b[0m\u001b[0;34m\u001b[0m\u001b[0m\n\u001b[1;32m     36\u001b[0m         \u001b[0mbatch_X\u001b[0m\u001b[0;34m,\u001b[0m \u001b[0mbatch_y\u001b[0m \u001b[0;34m=\u001b[0m \u001b[0mX_train\u001b[0m\u001b[0;34m[\u001b[0m\u001b[0mstart_ind\u001b[0m\u001b[0;34m:\u001b[0m\u001b[0mend_ind\u001b[0m\u001b[0;34m]\u001b[0m\u001b[0;34m,\u001b[0m \u001b[0my_train\u001b[0m\u001b[0;34m[\u001b[0m\u001b[0mstart_ind\u001b[0m\u001b[0;34m:\u001b[0m\u001b[0mend_ind\u001b[0m\u001b[0;34m]\u001b[0m\u001b[0;34m\u001b[0m\u001b[0m\n\u001b[0;32m---> 37\u001b[0;31m         \u001b[0msess\u001b[0m\u001b[0;34m.\u001b[0m\u001b[0mrun\u001b[0m\u001b[0;34m(\u001b[0m\u001b[0mtrain_step\u001b[0m\u001b[0;34m,\u001b[0m \u001b[0mfeed_dict\u001b[0m\u001b[0;34m=\u001b[0m\u001b[0;34m{\u001b[0m\u001b[0mX\u001b[0m\u001b[0;34m:\u001b[0m\u001b[0mbatch_X\u001b[0m\u001b[0;34m,\u001b[0m \u001b[0my\u001b[0m\u001b[0;34m:\u001b[0m\u001b[0mbatch_y\u001b[0m\u001b[0;34m}\u001b[0m\u001b[0;34m)\u001b[0m\u001b[0;34m\u001b[0m\u001b[0m\n\u001b[0m\u001b[1;32m     38\u001b[0m \u001b[0;34m\u001b[0m\u001b[0m\n\u001b[1;32m     39\u001b[0m     \u001b[0;32mif\u001b[0m \u001b[0mepoch\u001b[0m\u001b[0;34m%\u001b[0m\u001b[0mACC_EVERY\u001b[0m \u001b[0;34m==\u001b[0m \u001b[0;36m0\u001b[0m\u001b[0;34m:\u001b[0m\u001b[0;34m\u001b[0m\u001b[0m\n",
      "\u001b[0;32m/usr/local/lib/python2.7/site-packages/tensorflow/python/client/session.pyc\u001b[0m in \u001b[0;36mrun\u001b[0;34m(self, fetches, feed_dict, options, run_metadata)\u001b[0m\n\u001b[1;32m    765\u001b[0m     \u001b[0;32mtry\u001b[0m\u001b[0;34m:\u001b[0m\u001b[0;34m\u001b[0m\u001b[0m\n\u001b[1;32m    766\u001b[0m       result = self._run(None, fetches, feed_dict, options_ptr,\n\u001b[0;32m--> 767\u001b[0;31m                          run_metadata_ptr)\n\u001b[0m\u001b[1;32m    768\u001b[0m       \u001b[0;32mif\u001b[0m \u001b[0mrun_metadata\u001b[0m\u001b[0;34m:\u001b[0m\u001b[0;34m\u001b[0m\u001b[0m\n\u001b[1;32m    769\u001b[0m         \u001b[0mproto_data\u001b[0m \u001b[0;34m=\u001b[0m \u001b[0mtf_session\u001b[0m\u001b[0;34m.\u001b[0m\u001b[0mTF_GetBuffer\u001b[0m\u001b[0;34m(\u001b[0m\u001b[0mrun_metadata_ptr\u001b[0m\u001b[0;34m)\u001b[0m\u001b[0;34m\u001b[0m\u001b[0m\n",
      "\u001b[0;32m/usr/local/lib/python2.7/site-packages/tensorflow/python/client/session.pyc\u001b[0m in \u001b[0;36m_run\u001b[0;34m(self, handle, fetches, feed_dict, options, run_metadata)\u001b[0m\n\u001b[1;32m    963\u001b[0m     \u001b[0;32mif\u001b[0m \u001b[0mfinal_fetches\u001b[0m \u001b[0;32mor\u001b[0m \u001b[0mfinal_targets\u001b[0m\u001b[0;34m:\u001b[0m\u001b[0;34m\u001b[0m\u001b[0m\n\u001b[1;32m    964\u001b[0m       results = self._do_run(handle, final_targets, final_fetches,\n\u001b[0;32m--> 965\u001b[0;31m                              feed_dict_string, options, run_metadata)\n\u001b[0m\u001b[1;32m    966\u001b[0m     \u001b[0;32melse\u001b[0m\u001b[0;34m:\u001b[0m\u001b[0;34m\u001b[0m\u001b[0m\n\u001b[1;32m    967\u001b[0m       \u001b[0mresults\u001b[0m \u001b[0;34m=\u001b[0m \u001b[0;34m[\u001b[0m\u001b[0;34m]\u001b[0m\u001b[0;34m\u001b[0m\u001b[0m\n",
      "\u001b[0;32m/usr/local/lib/python2.7/site-packages/tensorflow/python/client/session.pyc\u001b[0m in \u001b[0;36m_do_run\u001b[0;34m(self, handle, target_list, fetch_list, feed_dict, options, run_metadata)\u001b[0m\n\u001b[1;32m   1013\u001b[0m     \u001b[0;32mif\u001b[0m \u001b[0mhandle\u001b[0m \u001b[0;32mis\u001b[0m \u001b[0mNone\u001b[0m\u001b[0;34m:\u001b[0m\u001b[0;34m\u001b[0m\u001b[0m\n\u001b[1;32m   1014\u001b[0m       return self._do_call(_run_fn, self._session, feed_dict, fetch_list,\n\u001b[0;32m-> 1015\u001b[0;31m                            target_list, options, run_metadata)\n\u001b[0m\u001b[1;32m   1016\u001b[0m     \u001b[0;32melse\u001b[0m\u001b[0;34m:\u001b[0m\u001b[0;34m\u001b[0m\u001b[0m\n\u001b[1;32m   1017\u001b[0m       return self._do_call(_prun_fn, self._session, handle, feed_dict,\n",
      "\u001b[0;32m/usr/local/lib/python2.7/site-packages/tensorflow/python/client/session.pyc\u001b[0m in \u001b[0;36m_do_call\u001b[0;34m(self, fn, *args)\u001b[0m\n\u001b[1;32m   1020\u001b[0m   \u001b[0;32mdef\u001b[0m \u001b[0m_do_call\u001b[0m\u001b[0;34m(\u001b[0m\u001b[0mself\u001b[0m\u001b[0;34m,\u001b[0m \u001b[0mfn\u001b[0m\u001b[0;34m,\u001b[0m \u001b[0;34m*\u001b[0m\u001b[0margs\u001b[0m\u001b[0;34m)\u001b[0m\u001b[0;34m:\u001b[0m\u001b[0;34m\u001b[0m\u001b[0m\n\u001b[1;32m   1021\u001b[0m     \u001b[0;32mtry\u001b[0m\u001b[0;34m:\u001b[0m\u001b[0;34m\u001b[0m\u001b[0m\n\u001b[0;32m-> 1022\u001b[0;31m       \u001b[0;32mreturn\u001b[0m \u001b[0mfn\u001b[0m\u001b[0;34m(\u001b[0m\u001b[0;34m*\u001b[0m\u001b[0margs\u001b[0m\u001b[0;34m)\u001b[0m\u001b[0;34m\u001b[0m\u001b[0m\n\u001b[0m\u001b[1;32m   1023\u001b[0m     \u001b[0;32mexcept\u001b[0m \u001b[0merrors\u001b[0m\u001b[0;34m.\u001b[0m\u001b[0mOpError\u001b[0m \u001b[0;32mas\u001b[0m \u001b[0me\u001b[0m\u001b[0;34m:\u001b[0m\u001b[0;34m\u001b[0m\u001b[0m\n\u001b[1;32m   1024\u001b[0m       \u001b[0mmessage\u001b[0m \u001b[0;34m=\u001b[0m \u001b[0mcompat\u001b[0m\u001b[0;34m.\u001b[0m\u001b[0mas_text\u001b[0m\u001b[0;34m(\u001b[0m\u001b[0me\u001b[0m\u001b[0;34m.\u001b[0m\u001b[0mmessage\u001b[0m\u001b[0;34m)\u001b[0m\u001b[0;34m\u001b[0m\u001b[0m\n",
      "\u001b[0;32m/usr/local/lib/python2.7/site-packages/tensorflow/python/client/session.pyc\u001b[0m in \u001b[0;36m_run_fn\u001b[0;34m(session, feed_dict, fetch_list, target_list, options, run_metadata)\u001b[0m\n\u001b[1;32m   1002\u001b[0m         return tf_session.TF_Run(session, options,\n\u001b[1;32m   1003\u001b[0m                                  \u001b[0mfeed_dict\u001b[0m\u001b[0;34m,\u001b[0m \u001b[0mfetch_list\u001b[0m\u001b[0;34m,\u001b[0m \u001b[0mtarget_list\u001b[0m\u001b[0;34m,\u001b[0m\u001b[0;34m\u001b[0m\u001b[0m\n\u001b[0;32m-> 1004\u001b[0;31m                                  status, run_metadata)\n\u001b[0m\u001b[1;32m   1005\u001b[0m \u001b[0;34m\u001b[0m\u001b[0m\n\u001b[1;32m   1006\u001b[0m     \u001b[0;32mdef\u001b[0m \u001b[0m_prun_fn\u001b[0m\u001b[0;34m(\u001b[0m\u001b[0msession\u001b[0m\u001b[0;34m,\u001b[0m \u001b[0mhandle\u001b[0m\u001b[0;34m,\u001b[0m \u001b[0mfeed_dict\u001b[0m\u001b[0;34m,\u001b[0m \u001b[0mfetch_list\u001b[0m\u001b[0;34m)\u001b[0m\u001b[0;34m:\u001b[0m\u001b[0;34m\u001b[0m\u001b[0m\n",
      "\u001b[0;31mKeyboardInterrupt\u001b[0m: "
     ]
    }
   ],
   "source": [
    "\"\"\"Multilayer perceptron\"\"\"\n",
    "# Hooray, generalized!\n",
    "# https://www.tensorflow.org used as reference\n",
    "# https://github.com/aymericdamien/TensorFlow-Examples was also useful\n",
    "\n",
    "layers_sizes = [255, 255]\n",
    "\n",
    "weights_sizes = zip([input_size]+layers_sizes, layers_sizes+[num_classes])\n",
    "biases_sizes = layers_sizes+[num_classes]\n",
    "weights = init_weights(weights_sizes)\n",
    "biases = init_biases(biases_sizes)\n",
    "\n",
    "\n",
    "def mlp_layers():\n",
    "    layers = []\n",
    "    for ind, layer_size in enumerate(layers_sizes):\n",
    "        try:\n",
    "            last_layer = layers[-1]\n",
    "        except IndexError:\n",
    "            last_layer = X\n",
    "        layers.append(fully_connected(last_layer, weights[ind], biases[ind]))\n",
    "    layers.append(tf.add(tf.matmul(layers[-1], weights[-1]), biases[-1]))\n",
    "    return layers\n",
    "\n",
    "predictor = mlp_layers()[-1]\n",
    "x_entropy = tf.reduce_mean(tf.nn.softmax_cross_entropy_with_logits(logits=predictor, labels=y))\n",
    "train_step = tf.train.AdamOptimizer(LEARNING_RATE).minimize(x_entropy)\n",
    "\n",
    "sess = tf.InteractiveSession()\n",
    "tf.global_variables_initializer().run()\n",
    "\n",
    "for epoch in range(EPOCHS):\n",
    "    for step in range(len(X_train)//BATCH_SIZE):\n",
    "        start_ind = (step*BATCH_SIZE) % len(X_train)\n",
    "        end_ind = ((step+1)*BATCH_SIZE) % len(X_train)\n",
    "        batch_X, batch_y = X_train[start_ind:end_ind], y_train[start_ind:end_ind]\n",
    "        sess.run(train_step, feed_dict={X:batch_X, y:batch_y})\n",
    "    \n",
    "    if epoch%ACC_EVERY == 0:\n",
    "        correct_prediction = tf.equal(tf.argmax(predictor, 1), tf.argmax(y, 1))\n",
    "        accuracy = tf.reduce_mean(tf.cast(correct_prediction, \"float\"))\n",
    "        print \"Epoch \", str(epoch).zfill(3), \" | Testing Acc:\", accuracy.eval({X: X_test, y: y_test})\n",
    "\n",
    "print \"Final Accuracy:\", accuracy.eval({X: X_test, y: y_test})"
   ]
  },
  {
   "cell_type": "code",
   "execution_count": 29,
   "metadata": {
    "collapsed": false,
    "deletable": true,
    "editable": true,
    "scrolled": false
   },
   "outputs": [
    {
     "name": "stdout",
     "output_type": "stream",
     "text": [
      "Epoch  000  | Testing Acc: 0.4648\n",
      "Epoch  001  | Testing Acc: 0.5174\n",
      "Epoch  002  | Testing Acc: 0.5368\n",
      "Epoch  003  | Testing Acc: 0.5523\n",
      "Epoch  004  | Testing Acc: 0.5553\n",
      "Epoch  005  | Testing Acc: 0.5598\n",
      "Epoch  006  | Testing Acc: 0.5636\n",
      "Epoch  007  | Testing Acc: 0.5651\n",
      "Epoch  008  | Testing Acc: 0.5632\n",
      "Epoch  009  | Testing Acc: 0.5576\n",
      "Epoch  010  | Testing Acc: 0.5796\n",
      "Epoch  011  | Testing Acc: 0.5605\n",
      "Epoch  012  | Testing Acc: 0.5401\n",
      "Epoch  013  | Testing Acc: 0.5614\n",
      "Epoch  014  | Testing Acc: 0.5525\n",
      "Final Accuracy: 0.5525\n"
     ]
    }
   ],
   "source": [
    "\"\"\"Multilayer perceptron WITH AUTOENCODER FUNCTIONALITY\"\"\"\n",
    "\n",
    "USE_AUTOENCODING = True\n",
    "\n",
    "layers_sizes = [255, 255]\n",
    "weights_sizes = zip([input_size]+layers_sizes, layers_sizes+[num_classes])\n",
    "biases_sizes = layers_sizes+[num_classes]\n",
    "weights = init_weights(weights_sizes)\n",
    "biases = init_biases(biases_sizes)\n",
    "\n",
    "def mlp_layers():\n",
    "    layers = []\n",
    "    for ind, layer_size in enumerate(layers_sizes):\n",
    "        try:\n",
    "            last_layer = layers[-1]\n",
    "        except IndexError:\n",
    "            last_layer = X\n",
    "        layers.append(fully_connected(last_layer, weights[ind], biases[ind]))\n",
    "    layers.append(tf.add(tf.matmul(layers[-1], weights[-1]), biases[-1]))\n",
    "    return layers\n",
    "\n",
    "predictor = mlp_layers()[-1]\n",
    "x_entropy = tf.reduce_mean(tf.nn.softmax_cross_entropy_with_logits(logits=predictor, labels=y))\n",
    "train_step = tf.train.AdamOptimizer(LEARNING_RATE).minimize(x_entropy)\n",
    "\n",
    "sess = tf.InteractiveSession()\n",
    "process_X = lambda x: autoencode_X(sess, decoder_op, x, autoencode=USE_AUTOENCODING)\n",
    "tf.global_variables_initializer().run()\n",
    "\n",
    "for epoch in range(EPOCHS):\n",
    "    for step in range(len(X_train)//BATCH_SIZE):\n",
    "        start_ind = (step*BATCH_SIZE) % len(X_train)\n",
    "        end_ind = ((step+1)*BATCH_SIZE) % len(X_train)\n",
    "        batch_X, batch_y = X_train[start_ind:end_ind], y_train[start_ind:end_ind]\n",
    "        sess.run(train_step, feed_dict={X:process_X(batch_X), y:batch_y})\n",
    "    \n",
    "    if epoch%ACC_EVERY == 0:\n",
    "        correct_prediction = tf.equal(tf.argmax(predictor, 1), tf.argmax(y, 1))\n",
    "        accuracy = tf.reduce_mean(tf.cast(correct_prediction, \"float\"))\n",
    "        print \"Epoch \", str(epoch).zfill(3), \" | Testing Acc:\", accuracy.eval({X: process_X(X_test), y: y_test})\n",
    "\n",
    "print \"Final Accuracy:\", accuracy.eval({X: process_X(X_test), y: y_test})"
   ]
  },
  {
   "cell_type": "code",
   "execution_count": null,
   "metadata": {
    "collapsed": false,
    "deletable": true,
    "editable": true,
    "scrolled": false
   },
   "outputs": [],
   "source": []
  },
  {
   "cell_type": "code",
   "execution_count": 10,
   "metadata": {
    "collapsed": false,
    "deletable": true,
    "editable": true,
    "scrolled": false
   },
   "outputs": [
    {
     "name": "stdout",
     "output_type": "stream",
     "text": [
      "Epoch  000  | Testing Acc: 0.9555\n",
      "Epoch  001  | Testing Acc: 0.9668\n",
      "Epoch  002  | Testing Acc: 0.9701\n",
      "Epoch  003  | Testing Acc: 0.9751\n",
      "Epoch  004  | Testing Acc: 0.9748\n",
      "Epoch  005  | Testing Acc: 0.9764\n",
      "Epoch  006  | Testing Acc: 0.9786\n",
      "Epoch  007  | Testing Acc: 0.9793\n",
      "Epoch  008  | Testing Acc: 0.9813\n",
      "Epoch  009  | Testing Acc: 0.9809\n",
      "Epoch  010  | Testing Acc: 0.9813\n",
      "Epoch  011  | Testing Acc: 0.9826\n",
      "Epoch  012  | Testing Acc: 0.9836\n",
      "Epoch  013  | Testing Acc: 0.983\n",
      "Epoch  014  | Testing Acc: 0.9828\n",
      "Final Accuracy: 0.9828\n"
     ]
    }
   ],
   "source": [
    "\"\"\"\n",
    "CONVOLUTIONAL NEURAL NETWORKS\n",
    "\"\"\"\n",
    "sess = tf.InteractiveSession()\n",
    "tf.global_variables_initializer().run()\n",
    "\n",
    "CONV_BATCH_SIZE = 128 # too slow otherwise\n",
    "dropout_prob = tf.placeholder(tf.float32)\n",
    "layers_sizes = [(5,5,1,32), (5,5,32,64), (64*7**2,1024), (1024,num_classes)]\n",
    "num_conv_layers = 2\n",
    "biases_sizes = [size[-1] for size in layers_sizes]\n",
    "weights = init_weights(layers_sizes)\n",
    "biases = init_biases(biases_sizes)\n",
    "\n",
    "def conv_layers(X, weights, biases, dropout):\n",
    "    X = tf.reshape(X, shape=[-1,28,28,1])\n",
    "    layers = []\n",
    "    # generate conv layers:\n",
    "    for ind, layer_size in enumerate(weights[:num_conv_layers]):\n",
    "        try:\n",
    "            last_layer = layers[-1]\n",
    "        except IndexError:\n",
    "            last_layer = X\n",
    "        layers.append(convolution(last_layer, weights[ind], biases[ind]))\n",
    "        layers.append(max_pool(layers[-1]))\n",
    "        \n",
    "    # generate fully connected layers:\n",
    "    for iter_ind, layer_size in enumerate(weights[num_conv_layers:-1]):\n",
    "        try:\n",
    "            last_layer = layers[-1]\n",
    "        except IndexError:\n",
    "            last_layer = X\n",
    "        ind = iter_ind+num_conv_layers\n",
    "        layer = tf.reshape(last_layer, [-1, weights[ind].get_shape().as_list()[0]])\n",
    "        layer = tf.add(tf.matmul(layer ,weights[ind]), biases[ind])\n",
    "        layer = tf.nn.dropout(layer, dropout)\n",
    "        layers.append(activation(layer))\n",
    "    \n",
    "    last = tf.add(tf.matmul(layers[-1], weights[-1]), biases[-1])\n",
    "    layers.append(last)\n",
    "    return layers\n",
    "\n",
    "predictor = conv_layers(X, weights, biases, dropout_prob)[-1]\n",
    "x_entropy = tf.reduce_mean(tf.nn.softmax_cross_entropy_with_logits(logits=predictor, labels=y))\n",
    "train_step = tf.train.AdamOptimizer(LEARNING_RATE).minimize(x_entropy)\n",
    "\n",
    "sess = tf.InteractiveSession()\n",
    "sess.run(tf.global_variables_initializer())\n",
    "\n",
    "for epoch in range(EPOCHS):\n",
    "    for step in range(len(X_train)//CONV_BATCH_SIZE):\n",
    "        start_ind = (step*CONV_BATCH_SIZE) % len(X_train)\n",
    "        end_ind = ((step+1)*CONV_BATCH_SIZE) % len(X_train)\n",
    "        batch_X, batch_y = X_train[start_ind:end_ind], y_train[start_ind:end_ind]\n",
    "        sess.run(train_step, feed_dict={X:batch_X, y:batch_y, dropout_prob: DROPOUT})\n",
    "    \n",
    "    if epoch % ACC_EVERY == 0:\n",
    "        correct_prediction = tf.equal(tf.argmax(predictor, 1), tf.argmax(y, 1))\n",
    "        # Calculate accuracy\n",
    "        accuracy = tf.reduce_mean(tf.cast(correct_prediction, \"float\"))\n",
    "        print \"Epoch \", str(epoch).zfill(3), \" | Testing Acc:\", accuracy.eval({X: X_test, y: y_test, dropout_prob: 1})\n",
    "    \n",
    "print \"Final Accuracy:\", accuracy.eval({X: X_test, y: y_test, dropout_prob: 1.})"
   ]
  },
  {
   "cell_type": "code",
   "execution_count": null,
   "metadata": {
    "collapsed": true,
    "deletable": true,
    "editable": true
   },
   "outputs": [],
   "source": []
  },
  {
   "cell_type": "code",
   "execution_count": 52,
   "metadata": {
    "collapsed": true,
    "deletable": true,
    "editable": true
   },
   "outputs": [],
   "source": []
  },
  {
   "cell_type": "code",
   "execution_count": null,
   "metadata": {
    "collapsed": true,
    "deletable": true,
    "editable": true
   },
   "outputs": [],
   "source": []
  }
 ],
 "metadata": {
  "kernelspec": {
   "display_name": "Python 2",
   "language": "python",
   "name": "python2"
  },
  "language_info": {
   "codemirror_mode": {
    "name": "ipython",
    "version": 2
   },
   "file_extension": ".py",
   "mimetype": "text/x-python",
   "name": "python",
   "nbconvert_exporter": "python",
   "pygments_lexer": "ipython2",
   "version": "2.7.13"
  }
 },
 "nbformat": 4,
 "nbformat_minor": 2
}
